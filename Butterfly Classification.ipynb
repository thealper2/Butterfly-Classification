{
 "cells": [
  {
   "cell_type": "code",
   "execution_count": 74,
   "id": "dab78dbe",
   "metadata": {},
   "outputs": [],
   "source": [
    "import numpy as np\n",
    "import pandas as pd\n",
    "import tensorflow as tf\n",
    "import os\n",
    "import cv2\n",
    "import matplotlib.pyplot as plt\n",
    "from tensorflow.keras.applications import Xception\n",
    "from tensorflow.keras.layers import Dense, GlobalAveragePooling2D\n",
    "from tensorflow.keras.models import Model\n",
    "from tensorflow.keras.preprocessing.image import ImageDataGenerator\n",
    "from sklearn.model_selection import train_test_split\n",
    "from sklearn.preprocessing import OneHotEncoder\n",
    "from sklearn.metrics import accuracy_score, classification_report"
   ]
  },
  {
   "cell_type": "code",
   "execution_count": 5,
   "id": "515c8d6a",
   "metadata": {},
   "outputs": [],
   "source": [
    "root_dir = \"leedsbutterfly/images\""
   ]
  },
  {
   "cell_type": "code",
   "execution_count": 44,
   "id": "ec0a5ceb",
   "metadata": {},
   "outputs": [],
   "source": [
    "data = []\n",
    "labels = []"
   ]
  },
  {
   "cell_type": "code",
   "execution_count": 45,
   "id": "9736c39e",
   "metadata": {},
   "outputs": [],
   "source": [
    "for file in os.listdir(root_dir):\n",
    "    label = int(str(file)[:3])\n",
    "    img = cv2.imread(root_dir + \"/\" + file)\n",
    "    img = cv2.cvtColor(img, cv2.COLOR_BGR2RGB)\n",
    "    img = cv2.resize(img, (224, 224))\n",
    "    data.append(img)\n",
    "    labels.append(label)"
   ]
  },
  {
   "cell_type": "code",
   "execution_count": 46,
   "id": "1f5a3e0e",
   "metadata": {},
   "outputs": [],
   "source": [
    "data = np.array(data) / 255\n",
    "labels = np.array(labels)\n",
    "labels = labels.reshape(832, 1)"
   ]
  },
  {
   "cell_type": "code",
   "execution_count": 47,
   "id": "cf94aa55",
   "metadata": {},
   "outputs": [],
   "source": [
    "onehot = OneHotEncoder()\n",
    "labels = onehot.fit_transform(labels)"
   ]
  },
  {
   "cell_type": "code",
   "execution_count": 48,
   "id": "42a5e833",
   "metadata": {},
   "outputs": [
    {
     "data": {
      "text/plain": [
       "(832, 10)"
      ]
     },
     "execution_count": 48,
     "metadata": {},
     "output_type": "execute_result"
    }
   ],
   "source": [
    "labels.shape"
   ]
  },
  {
   "cell_type": "code",
   "execution_count": 50,
   "id": "ff754d64",
   "metadata": {},
   "outputs": [],
   "source": [
    "X_train, X_test, y_train, y_test = train_test_split(data, labels, test_size=0.2, random_state=4242)"
   ]
  },
  {
   "cell_type": "code",
   "execution_count": 51,
   "id": "af3c7aa1",
   "metadata": {},
   "outputs": [
    {
     "name": "stdout",
     "output_type": "stream",
     "text": [
      "Downloading data from https://storage.googleapis.com/tensorflow/keras-applications/xception/xception_weights_tf_dim_ordering_tf_kernels_notop.h5\n",
      "83683744/83683744 [==============================] - 8s 0us/step\n"
     ]
    }
   ],
   "source": [
    "base_model = Xception(weights='imagenet', include_top=False, input_shape=(224, 224, 3))"
   ]
  },
  {
   "cell_type": "code",
   "execution_count": 52,
   "id": "a4c91926",
   "metadata": {},
   "outputs": [],
   "source": [
    "for layer in base_model.layers:\n",
    "    layer.trainable = False"
   ]
  },
  {
   "cell_type": "code",
   "execution_count": 54,
   "id": "b70f4062",
   "metadata": {},
   "outputs": [],
   "source": [
    "x = base_model.output\n",
    "x = GlobalAveragePooling2D()(x)\n",
    "x = Dense(1024, activation='relu')(x)\n",
    "predictions = Dense(10, activation='softmax')(x)"
   ]
  },
  {
   "cell_type": "code",
   "execution_count": 55,
   "id": "89587643",
   "metadata": {},
   "outputs": [],
   "source": [
    "model = Model(inputs=base_model.input, outputs=predictions)"
   ]
  },
  {
   "cell_type": "code",
   "execution_count": 56,
   "id": "9a76fe3d",
   "metadata": {},
   "outputs": [],
   "source": [
    "model.compile(optimizer='adam', loss='categorical_crossentropy', metrics=['accuracy'])"
   ]
  },
  {
   "cell_type": "code",
   "execution_count": 58,
   "id": "45a7419b",
   "metadata": {},
   "outputs": [],
   "source": [
    "datagen = ImageDataGenerator(\n",
    "    rotation_range=15,\n",
    "    fill_mode=\"nearest\"\n",
    ")"
   ]
  },
  {
   "cell_type": "code",
   "execution_count": 63,
   "id": "fd646ed3",
   "metadata": {},
   "outputs": [],
   "source": [
    "dataflow = datagen.flow(\n",
    "    x=X_train,\n",
    "    y=y_train.toarray(),\n",
    "    batch_size=32\n",
    ")"
   ]
  },
  {
   "cell_type": "code",
   "execution_count": 64,
   "id": "786271f8",
   "metadata": {},
   "outputs": [
    {
     "name": "stderr",
     "output_type": "stream",
     "text": [
      "/var/folders/k7/w37qytjn78j3258njhbzvlvr0000gn/T/ipykernel_5728/3363831290.py:1: UserWarning: `Model.fit_generator` is deprecated and will be removed in a future version. Please use `Model.fit`, which supports generators.\n",
      "  history = model.fit_generator(\n"
     ]
    },
    {
     "name": "stdout",
     "output_type": "stream",
     "text": [
      "Epoch 1/10\n"
     ]
    },
    {
     "name": "stderr",
     "output_type": "stream",
     "text": [
      "2023-05-31 23:14:00.984800: W tensorflow/tsl/platform/profile_utils/cpu_utils.cc:128] Failed to get CPU frequency: 0 Hz\n"
     ]
    },
    {
     "name": "stdout",
     "output_type": "stream",
     "text": [
      "20/20 [==============================] - 26s 1s/step - loss: 0.5936 - accuracy: 0.8183 - val_loss: 0.0846 - val_accuracy: 0.9880\n",
      "Epoch 2/10\n",
      "20/20 [==============================] - 25s 1s/step - loss: 0.0642 - accuracy: 0.9795 - val_loss: 0.1647 - val_accuracy: 0.9521\n",
      "Epoch 3/10\n",
      "20/20 [==============================] - 27s 1s/step - loss: 0.0458 - accuracy: 0.9810 - val_loss: 0.0976 - val_accuracy: 0.9760\n",
      "Epoch 4/10\n",
      "20/20 [==============================] - 28s 1s/step - loss: 0.0182 - accuracy: 0.9921 - val_loss: 0.0980 - val_accuracy: 0.9760\n",
      "Epoch 5/10\n",
      "20/20 [==============================] - 29s 1s/step - loss: 0.0087 - accuracy: 0.9984 - val_loss: 0.0892 - val_accuracy: 0.9760\n",
      "Epoch 6/10\n",
      "20/20 [==============================] - 29s 1s/step - loss: 0.0103 - accuracy: 1.0000 - val_loss: 0.0812 - val_accuracy: 0.9760\n",
      "Epoch 7/10\n",
      "20/20 [==============================] - 29s 1s/step - loss: 0.0041 - accuracy: 1.0000 - val_loss: 0.0710 - val_accuracy: 0.9880\n",
      "Epoch 8/10\n",
      "20/20 [==============================] - 29s 1s/step - loss: 0.0092 - accuracy: 0.9984 - val_loss: 0.0751 - val_accuracy: 0.9820\n",
      "Epoch 9/10\n",
      "20/20 [==============================] - 30s 2s/step - loss: 0.0095 - accuracy: 0.9984 - val_loss: 0.0541 - val_accuracy: 0.9880\n",
      "Epoch 10/10\n",
      "20/20 [==============================] - 30s 2s/step - loss: 0.0060 - accuracy: 0.9984 - val_loss: 0.1036 - val_accuracy: 0.9760\n"
     ]
    }
   ],
   "source": [
    "history = model.fit_generator(\n",
    "    dataflow,\n",
    "    steps_per_epoch=len(X_train) // 32,\n",
    "    validation_data=(X_test, y_test.toarray()),\n",
    "    validation_steps=len(X_test) // 32,\n",
    "    epochs=10\n",
    ")"
   ]
  },
  {
   "cell_type": "code",
   "execution_count": 66,
   "id": "efe74793",
   "metadata": {},
   "outputs": [],
   "source": [
    "model.save(\"butterfly.h5\")"
   ]
  },
  {
   "cell_type": "code",
   "execution_count": 67,
   "id": "45bc69ca",
   "metadata": {},
   "outputs": [
    {
     "data": {
      "text/html": [
       "<div>\n",
       "<style scoped>\n",
       "    .dataframe tbody tr th:only-of-type {\n",
       "        vertical-align: middle;\n",
       "    }\n",
       "\n",
       "    .dataframe tbody tr th {\n",
       "        vertical-align: top;\n",
       "    }\n",
       "\n",
       "    .dataframe thead th {\n",
       "        text-align: right;\n",
       "    }\n",
       "</style>\n",
       "<table border=\"1\" class=\"dataframe\">\n",
       "  <thead>\n",
       "    <tr style=\"text-align: right;\">\n",
       "      <th></th>\n",
       "      <th>loss</th>\n",
       "      <th>accuracy</th>\n",
       "      <th>val_loss</th>\n",
       "      <th>val_accuracy</th>\n",
       "    </tr>\n",
       "  </thead>\n",
       "  <tbody>\n",
       "    <tr>\n",
       "      <th>0</th>\n",
       "      <td>0.593613</td>\n",
       "      <td>0.818325</td>\n",
       "      <td>0.084634</td>\n",
       "      <td>0.988024</td>\n",
       "    </tr>\n",
       "    <tr>\n",
       "      <th>1</th>\n",
       "      <td>0.064201</td>\n",
       "      <td>0.979463</td>\n",
       "      <td>0.164668</td>\n",
       "      <td>0.952096</td>\n",
       "    </tr>\n",
       "    <tr>\n",
       "      <th>2</th>\n",
       "      <td>0.045798</td>\n",
       "      <td>0.981043</td>\n",
       "      <td>0.097554</td>\n",
       "      <td>0.976048</td>\n",
       "    </tr>\n",
       "    <tr>\n",
       "      <th>3</th>\n",
       "      <td>0.018227</td>\n",
       "      <td>0.992101</td>\n",
       "      <td>0.097973</td>\n",
       "      <td>0.976048</td>\n",
       "    </tr>\n",
       "    <tr>\n",
       "      <th>4</th>\n",
       "      <td>0.008720</td>\n",
       "      <td>0.998420</td>\n",
       "      <td>0.089229</td>\n",
       "      <td>0.976048</td>\n",
       "    </tr>\n",
       "  </tbody>\n",
       "</table>\n",
       "</div>"
      ],
      "text/plain": [
       "       loss  accuracy  val_loss  val_accuracy\n",
       "0  0.593613  0.818325  0.084634      0.988024\n",
       "1  0.064201  0.979463  0.164668      0.952096\n",
       "2  0.045798  0.981043  0.097554      0.976048\n",
       "3  0.018227  0.992101  0.097973      0.976048\n",
       "4  0.008720  0.998420  0.089229      0.976048"
      ]
     },
     "execution_count": 67,
     "metadata": {},
     "output_type": "execute_result"
    }
   ],
   "source": [
    "history_df = pd.DataFrame(history.history)\n",
    "history_df.head()"
   ]
  },
  {
   "cell_type": "code",
   "execution_count": 68,
   "id": "465c1ade",
   "metadata": {},
   "outputs": [
    {
     "data": {
      "image/png": "[encoded data removed]",
      "text/plain": [
       "<Figure size 640x480 with 1 Axes>"
      ]
     },
     "metadata": {},
     "output_type": "display_data"
    }
   ],
   "source": [
    "plt.figure()\n",
    "plt.plot(history.history[\"accuracy\"])\n",
    "plt.plot(history.history[\"val_accuracy\"])\n",
    "plt.xlabel(\"Epoch\")\n",
    "plt.ylabel(\"Accuracy\")\n",
    "plt.legend([\"train\", \"valid\"])\n",
    "plt.show()"
   ]
  },
  {
   "cell_type": "code",
   "execution_count": 69,
   "id": "0e125af9",
   "metadata": {},
   "outputs": [
    {
     "data": {
      "image/png": "[encoded data removed]",
      "text/plain": [
       "<Figure size 640x480 with 1 Axes>"
      ]
     },
     "metadata": {},
     "output_type": "display_data"
    }
   ],
   "source": [
    "plt.figure()\n",
    "plt.plot(history.history[\"loss\"])\n",
    "plt.plot(history.history[\"val_loss\"])\n",
    "plt.xlabel(\"Epoch\")\n",
    "plt.ylabel(\"Loss\")\n",
    "plt.legend([\"train\", \"valid\"])\n",
    "plt.show()"
   ]
  },
  {
   "cell_type": "code",
   "execution_count": 70,
   "id": "2488e494",
   "metadata": {},
   "outputs": [
    {
     "name": "stdout",
     "output_type": "stream",
     "text": [
      "6/6 [==============================] - 5s 826ms/step\n"
     ]
    }
   ],
   "source": [
    "y_pred = model.predict(X_test)"
   ]
  },
  {
   "cell_type": "code",
   "execution_count": 71,
   "id": "665560d7",
   "metadata": {},
   "outputs": [],
   "source": [
    "y_pred = np.argmax(y_pred, axis=1)\n",
    "y_test = np.argmax(y_test.toarray(), axis=1)"
   ]
  },
  {
   "cell_type": "code",
   "execution_count": 72,
   "id": "5dde1be3",
   "metadata": {},
   "outputs": [
    {
     "data": {
      "text/plain": [
       "0.9760479041916168"
      ]
     },
     "execution_count": 72,
     "metadata": {},
     "output_type": "execute_result"
    }
   ],
   "source": [
    "accuracy_score(y_test, y_pred)"
   ]
  },
  {
   "cell_type": "code",
   "execution_count": 75,
   "id": "9b2c212f",
   "metadata": {},
   "outputs": [
    {
     "name": "stdout",
     "output_type": "stream",
     "text": [
      "              precision    recall  f1-score   support\n",
      "\n",
      "           0       1.00      1.00      1.00        18\n",
      "           1       1.00      1.00      1.00        12\n",
      "           2       1.00      1.00      1.00        11\n",
      "           3       0.92      1.00      0.96        11\n",
      "           4       0.91      0.95      0.93        21\n",
      "           5       1.00      1.00      1.00        26\n",
      "           6       1.00      1.00      1.00        18\n",
      "           7       1.00      1.00      1.00        10\n",
      "           8       0.94      1.00      0.97        15\n",
      "           9       1.00      0.88      0.94        25\n",
      "\n",
      "    accuracy                           0.98       167\n",
      "   macro avg       0.98      0.98      0.98       167\n",
      "weighted avg       0.98      0.98      0.98       167\n",
      "\n"
     ]
    }
   ],
   "source": [
    "print(classification_report(y_test, y_pred))"
   ]
  },
  {
   "cell_type": "code",
   "execution_count": null,
   "id": "71607fd4",
   "metadata": {},
   "outputs": [],
   "source": []
  }
 ],
 "metadata": {
  "kernelspec": {
   "display_name": "Python 3 (ipykernel)",
   "language": "python",
   "name": "python3"
  },
  "language_info": {
   "codemirror_mode": {
    "name": "ipython",
    "version": 3
   },
   "file_extension": ".py",
   "mimetype": "text/x-python",
   "name": "python",
   "nbconvert_exporter": "python",
   "pygments_lexer": "ipython3",
   "version": "3.8.16"
  }
 },
 "nbformat": 4,
 "nbformat_minor": 5
}
